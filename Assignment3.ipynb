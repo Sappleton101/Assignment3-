{
 "cells": [
  {
   "cell_type": "code",
   "execution_count": 20,
   "id": "fd35a8c1",
   "metadata": {},
   "outputs": [
    {
     "data": {
      "text/plain": [
       "'Functions allows for reusability instead of having to type the same block of code  each time'"
      ]
     },
     "execution_count": 20,
     "metadata": {},
     "output_type": "execute_result"
    }
   ],
   "source": [
    "# Why are functions advantageous to have in your programs?\n",
    "\"Functions allows for reusability instead of having to type the same block of code  each time\""
   ]
  },
  {
   "cell_type": "code",
   "execution_count": 7,
   "id": "8d2a7e31",
   "metadata": {},
   "outputs": [
    {
     "data": {
      "text/plain": [
       "'A function runs when it is called'"
      ]
     },
     "execution_count": 7,
     "metadata": {},
     "output_type": "execute_result"
    }
   ],
   "source": [
    "# When does the code in a function run: when it's specified or when it's called?\n",
    "\"A function runs when it is called\""
   ]
  },
  {
   "cell_type": "code",
   "execution_count": 8,
   "id": "255e88c1",
   "metadata": {},
   "outputs": [
    {
     "data": {
      "text/plain": [
       "'The statement def creates a function'"
      ]
     },
     "execution_count": 8,
     "metadata": {},
     "output_type": "execute_result"
    }
   ],
   "source": [
    "# What statement creates a function?\n",
    "\"The statement def creates a function\""
   ]
  },
  {
   "cell_type": "code",
   "execution_count": 9,
   "id": "36883ba5",
   "metadata": {},
   "outputs": [
    {
     "data": {
      "text/plain": [
       "'A function is group of code use to accomplish a purpose while a function call is just a reference to that function to use its functionality'"
      ]
     },
     "execution_count": 9,
     "metadata": {},
     "output_type": "execute_result"
    }
   ],
   "source": [
    "# What is the difference between a function and a function call?\n",
    "\"A function is group of code use to accomplish a purpose while a function call is just a reference to that function to use its functionality\""
   ]
  },
  {
   "cell_type": "code",
   "execution_count": 21,
   "id": "6a76cc21",
   "metadata": {},
   "outputs": [
    {
     "data": {
      "text/plain": [
       "'There is one global scope in python and there are four local scope in python'"
      ]
     },
     "execution_count": 21,
     "metadata": {},
     "output_type": "execute_result"
    }
   ],
   "source": [
    "# How many global scopes are there in a Python program? How many local scopes?  \n",
    "\"There is one global scope in python and there are four local scope in python\""
   ]
  },
  {
   "cell_type": "code",
   "execution_count": 11,
   "id": "c60b6e84",
   "metadata": {},
   "outputs": [
    {
     "data": {
      "text/plain": [
       "'When it is local it will only be used in that function only and nowhere else'"
      ]
     },
     "execution_count": 11,
     "metadata": {},
     "output_type": "execute_result"
    }
   ],
   "source": [
    "# What happens to variables in a local scope when the function call returns?\n",
    "\"When it is the local scope it will only be used in that function only and nowhere else\""
   ]
  },
  {
   "cell_type": "code",
   "execution_count": 22,
   "id": "19ed24e8",
   "metadata": {},
   "outputs": [
    {
     "data": {
      "text/plain": [
       "'A return value basically allocates a spot in memory to keep what has been returned from the function, No an expression should not produce an output'"
      ]
     },
     "execution_count": 22,
     "metadata": {},
     "output_type": "execute_result"
    }
   ],
   "source": [
    "# What is the concept of a return value? Is it possible to have a return value in an expression?\n",
    "\"A return value basically allocates a spot in memory to keep what has been returned from the function, No an expression should not produce an output\""
   ]
  },
  {
   "cell_type": "code",
   "execution_count": 13,
   "id": "a9b51aa1",
   "metadata": {},
   "outputs": [
    {
     "data": {
      "text/plain": [
       "\"The function will implicity return 'None', as nothing was return in the function being called\""
      ]
     },
     "execution_count": 13,
     "metadata": {},
     "output_type": "execute_result"
    }
   ],
   "source": [
    "# If a function does not have a return statement, what is the return value of a call to that function?\n",
    "\"The function will implicity return 'None', as nothing was return in the function being called\""
   ]
  },
  {
   "cell_type": "code",
   "execution_count": null,
   "id": "4bb3717a",
   "metadata": {},
   "outputs": [],
   "source": [
    "# How do you make a function variable refer to the global variable?\n",
    "\" You can make a function variable global by placing the global keyword infront of the function , see example below\"\n",
    "Global num = 2 "
   ]
  },
  {
   "cell_type": "code",
   "execution_count": 15,
   "id": "bf443eba",
   "metadata": {},
   "outputs": [
    {
     "data": {
      "text/plain": [
       "'None has the data type of NoneType '"
      ]
     },
     "execution_count": 15,
     "metadata": {},
     "output_type": "execute_result"
    }
   ],
   "source": [
    "# What is the data type of none?\n",
    "\"None has the data type of NoneType \""
   ]
  },
  {
   "cell_type": "code",
   "execution_count": 16,
   "id": "241b88d9",
   "metadata": {},
   "outputs": [
    {
     "data": {
      "text/plain": [
       "'This sentence calls another python module called areallyourpetsnamederic '"
      ]
     },
     "execution_count": 16,
     "metadata": {},
     "output_type": "execute_result"
    }
   ],
   "source": [
    "# What does the sentence import areallyourpetsnamederic do? \n",
    "\"This sentence calls another python module called areallyourpetsnamederic \""
   ]
  },
  {
   "cell_type": "code",
   "execution_count": 17,
   "id": "b0e128a3",
   "metadata": {},
   "outputs": [
    {
     "data": {
      "text/plain": [
       "' This will be how it would be called (spam.bacon()) since it is in the spam module '"
      ]
     },
     "execution_count": 17,
     "metadata": {},
     "output_type": "execute_result"
    }
   ],
   "source": [
    "# If you had a bacon () feature in a spam module, how would you call it after importing spam ?\n",
    "\" This will be how it would be called (spam.bacon()) since it is in the spam module \""
   ]
  },
  {
   "cell_type": "code",
   "execution_count": 18,
   "id": "058746a8",
   "metadata": {},
   "outputs": [
    {
     "data": {
      "text/plain": [
       "' You could apply error handling by putting it in a try-except-finally and try_except statement'"
      ]
     },
     "execution_count": 18,
     "metadata": {},
     "output_type": "execute_result"
    }
   ],
   "source": [
    "# What can you do to save a programme from crashing if it encounters an error?\n",
    "\" You could apply error handling by putting it in a try-except-finally and try_except statement\""
   ]
  },
  {
   "cell_type": "code",
   "execution_count": 19,
   "id": "11fdd15f",
   "metadata": {},
   "outputs": [
    {
     "data": {
      "text/plain": [
       "'A try clause will execute the functionilty of the function while a except is the part of the function that will handle the error'"
      ]
     },
     "execution_count": 19,
     "metadata": {},
     "output_type": "execute_result"
    }
   ],
   "source": [
    "# What is the purpose of the try clause? What is the purpose of the except clause?\n",
    "\"A try clause will execute the functionilty of the function while a except is the part of the function that will handle the error\""
   ]
  }
 ],
 "metadata": {
  "kernelspec": {
   "display_name": "Python 3",
   "language": "python",
   "name": "python3"
  },
  "language_info": {
   "codemirror_mode": {
    "name": "ipython",
    "version": 3
   },
   "file_extension": ".py",
   "mimetype": "text/x-python",
   "name": "python",
   "nbconvert_exporter": "python",
   "pygments_lexer": "ipython3",
   "version": "3.8.8"
  }
 },
 "nbformat": 4,
 "nbformat_minor": 5
}
